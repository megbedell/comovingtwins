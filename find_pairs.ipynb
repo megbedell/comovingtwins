{
 "cells": [
  {
   "cell_type": "code",
   "execution_count": 1,
   "metadata": {},
   "outputs": [],
   "source": [
    "import numpy as np\n",
    "import matplotlib.pyplot as plt\n",
    "from astropy.table import Table\n",
    "from astropy.coordinates import SkyCoord\n",
    "import astropy.units as u\n",
    "from tqdm import tqdm"
   ]
  },
  {
   "cell_type": "markdown",
   "metadata": {},
   "source": [
    "Gaia query was done using the following ADQL:\n",
    "\n",
    "```\n",
    "SELECT *, phot_g_mean_mag+5*log10(parallax)-10 AS mg, \n",
    "sqrt(power(pmra,2)+power(pmdec,2)) AS pm\n",
    "FROM gaiadr2.gaia_source\n",
    "WHERE parallax_over_error > 10\n",
    "AND phot_g_mean_flux_over_error>50\n",
    "AND phot_rp_mean_flux_over_error>20\n",
    "AND phot_bp_mean_flux_over_error>20\n",
    "AND phot_bp_rp_excess_factor < 1.3+0.06*power(phot_bp_mean_mag-phot_rp_mean_mag,2)\n",
    "AND phot_bp_rp_excess_factor > 1.0+0.015*power(phot_bp_mean_mag-phot_rp_mean_mag,2)\n",
    "AND visibility_periods_used>8\n",
    "AND astrometric_chi2_al/(astrometric_n_good_obs_al-5)<1.44*greatest(1,exp(-0.4*(phot_g_mean_mag-19.5)))\n",
    "AND phot_g_mean_mag < 11\n",
    "AND phot_g_mean_mag+5*log10(parallax)-10 > 3\n",
    "AND bp_rp > 0.5\n",
    "AND bp_rp < 2.0\n",
    "```"
   ]
  },
  {
   "cell_type": "code",
   "execution_count": 2,
   "metadata": {},
   "outputs": [],
   "source": [
    "table = Table.read('bright_fgk-result.fits')\n",
    "table['coords'] = SkyCoord(ra=table['ra'], dec=table['dec'])"
   ]
  },
  {
   "cell_type": "code",
   "execution_count": 3,
   "metadata": {},
   "outputs": [],
   "source": [
    "sep_limit = 2. * u.pc\n",
    "bp_limit = 0.5\n",
    "rp_limit = 0.5"
   ]
  },
  {
   "cell_type": "code",
   "execution_count": 4,
   "metadata": {},
   "outputs": [
    {
     "data": {
      "image/png": "[encoded data removed]",
      "text/plain": [
       "<Figure size 432x288 with 1 Axes>"
      ]
     },
     "metadata": {
      "needs_background": "light"
     },
     "output_type": "display_data"
    }
   ],
   "source": [
    "star_distances = ((table['parallax']).to(u.pc, equivalencies=u.parallax())).value\n",
    "plt.hist(star_distances, bins=np.logspace(np.log10(star_distances.min()), np.log10(star_distances.max()), num=100))\n",
    "plt.xscale('log')\n",
    "plt.xlabel('Stellar distance (pc)',fontsize=12);"
   ]
  },
  {
   "cell_type": "code",
   "execution_count": 5,
   "metadata": {},
   "outputs": [
    {
     "data": {
      "image/png": "[encoded data removed]",
      "text/plain": [
       "<Figure size 432x288 with 1 Axes>"
      ]
     },
     "metadata": {
      "needs_background": "light"
     },
     "output_type": "display_data"
    }
   ],
   "source": [
    "search_distances = sep_limit / (table['parallax']).to(u.pc, equivalencies=u.parallax()) * u.rad\n",
    "search_distances = search_distances.to(u.arcmin).value\n",
    "plt.hist(search_distances, bins=np.logspace(np.log10(search_distances.min()), np.log10(search_distances.max()), num=100))\n",
    "plt.xscale('log')\n",
    "plt.xlabel('Maximum angular separation (arcmin)',fontsize=12);"
   ]
  },
  {
   "cell_type": "code",
   "execution_count": 6,
   "metadata": {},
   "outputs": [],
   "source": [
    "pairs = Table(names=('source_id1', 'source_id2', 'ra1', 'ra2', 'dec1', 'dec2',\n",
    "                     'plx1', 'plx_error1', 'plx2', 'plx_error2', \n",
    "                     'pmra1', 'pmra_error1', 'pmra2', 'pmra_error2', \n",
    "                     'pmdec1', 'pmdec_error1', 'pmdec2', 'pmdec_error2',\n",
    "                     'bp1', 'bp2', 'rp1', 'rp2', 'g1', 'g2', 'mg1', 'mg2',\n",
    "                     'delta_distance', 'delta_distance_error', 'delta_pm', 'delta_pm_error',\n",
    "                     'angsep'),\n",
    "             dtype=('i8', 'i8', 'f8', 'f8', 'f8', 'f8',\n",
    "                    'f8', 'f8', 'f8', 'f8', \n",
    "                    'f8', 'f8', 'f8', 'f8', \n",
    "                    'f8', 'f8', 'f8', 'f8', \n",
    "                    'f8', 'f8', 'f8', 'f8', 'f8', 'f8', 'f8', 'f8',\n",
    "                    'f8', 'f8', 'f8', 'f8', 'f8'))"
   ]
  },
  {
   "cell_type": "code",
   "execution_count": 7,
   "metadata": {},
   "outputs": [],
   "source": [
    "def row_exists(pairs, s1, s2):\n",
    "    mask1 = (pairs['source_id1'] == s1) & (pairs['source_id2'] == s2)\n",
    "    mask2 = (pairs['source_id1'] == s2) & (pairs['source_id2'] == s1)\n",
    "    if np.sum(mask1) > 0 or np.sum(mask2) > 0:\n",
    "        return True\n",
    "    else:\n",
    "        return False"
   ]
  },
  {
   "cell_type": "code",
   "execution_count": 9,
   "metadata": {},
   "outputs": [
    {
     "name": "stderr",
     "output_type": "stream",
     "text": [
      "100%|██████████| 500/500 [00:48<00:00, 10.39it/s]\n"
     ]
    }
   ],
   "source": [
    "for star in tqdm(table):\n",
    "    distance = (star['parallax'] * u.mas).to(u.pc, equivalencies=u.parallax()) # distance to star1\n",
    "    nearby_stars = table[star['coords'].separation(table['coords']) <= sep_limit / distance * u.rad] \n",
    "    nearby_stars = nearby_stars[nearby_stars['source_id'] != star['source_id']] # eliminate self-match\n",
    "    if len(nearby_stars) == 0: \n",
    "        #print('no nearby stars found!') \n",
    "        continue\n",
    "    similar_mags = (np.abs(star['phot_bp_mean_mag'] - nearby_stars['phot_bp_mean_mag']) <= bp_limit) \\\n",
    "                    & (np.abs(star['phot_rp_mean_mag'] - nearby_stars['phot_rp_mean_mag']) <= rp_limit)\n",
    "    nearby_stars = nearby_stars[similar_mags] # apply magnitude cuts\n",
    "    if len(nearby_stars) == 0: \n",
    "        #print('all stars failed magnitude cut')\n",
    "        continue\n",
    "    d2 = nearby_stars['parallax'].to(u.pc, equivalencies=u.parallax()) # distances to star2s\n",
    "    delta_d = np.abs(distance - d2) # distance difference\n",
    "    delta_d_err = np.sqrt(distance**2/star['parallax_over_error']**2 + d2**2/nearby_stars['parallax_over_error']**2)\n",
    "    similar_plx = delta_d <= 3. * delta_d_err + 2.*sep_limit\n",
    "    nearby_stars = nearby_stars[similar_plx] # apply parallax cut\n",
    "    if len(nearby_stars) == 0: \n",
    "        #print('all stars failed parallax cut') \n",
    "        continue\n",
    "    delta_pm = np.sqrt((star['pmra'] - nearby_stars['pmra'])**2 + (star['pmdec'] - nearby_stars['pmdec'])**2)\n",
    "    delta_pm_err = np.sqrt((star['pmra_error']**2 + nearby_stars['pmra_error']**2)*(star['pmra'] - nearby_stars['pmra'])**2\n",
    "                           + (star['pmdec_error']**2 + nearby_stars['pmdec_error']**2)*(star['pmdec'] - nearby_stars['pmdec'])**2) \\\n",
    "                    * 1./delta_pm\n",
    "    separation = star['coords'].separation(nearby_stars['coords']).to('arcsec')\n",
    "    delta_pm_orbit = 0.44 * star['parallax']**1.5 / np.sqrt(separation/u.arcsec)  * u.mas / u.yr\n",
    "    similar_pm = delta_pm <= 3. * delta_pm_err + delta_pm_orbit\n",
    "    nearby_stars = nearby_stars[similar_pm] # apply parallax cut\n",
    "    if len(nearby_stars) == 0: \n",
    "        #print('all stars failed proper motion cut') \n",
    "        continue\n",
    "    for star2 in nearby_stars:\n",
    "        if not row_exists(pairs, star['source_id'], star2['source_id']):\n",
    "            pairs.add_row((star['source_id'], star2['source_id'], star['ra'], star2['ra'], star['dec'], star2['dec'],\n",
    "                        star['parallax'], star['parallax_error'], star2['parallax'], star2['parallax_error'],\n",
    "                        star['pmra'], star['pmra_error'], star2['pmra'], star2['pmra_error'],\n",
    "                        star['pmdec'], star['pmdec_error'], star2['pmdec'], star2['pmdec_error'],\n",
    "                        star['phot_bp_mean_mag'], star2['phot_bp_mean_mag'], star['phot_rp_mean_mag'], star2['phot_rp_mean_mag'],\n",
    "                        star['phot_g_mean_mag'], star2['phot_g_mean_mag'], star['mg'], star2['mg'],\n",
    "                        delta_d[similar_plx][similar_pm], delta_d_err[similar_plx][similar_pm], \n",
    "                        delta_pm[similar_pm], delta_pm_err[similar_pm], separation[similar_pm]))"
   ]
  },
  {
   "cell_type": "code",
   "execution_count": 10,
   "metadata": {},
   "outputs": [
    {
     "data": {
      "text/html": [
       "<i>Table length=2</i>\n",
       "<table id=\"table5043255112\" class=\"table-striped table-bordered table-condensed\">\n",
       "<thead><tr><th>source_id1</th><th>source_id2</th><th>ra1</th><th>ra2</th><th>dec1</th><th>dec2</th><th>plx1</th><th>plx_error1</th><th>plx2</th><th>plx_error2</th><th>pmra1</th><th>pmra_error1</th><th>pmra2</th><th>pmra_error2</th><th>pmdec1</th><th>pmdec_error1</th><th>pmdec2</th><th>pmdec_error2</th><th>bp1</th><th>bp2</th><th>rp1</th><th>rp2</th><th>g1</th><th>g2</th><th>mg1</th><th>mg2</th><th>delta_distance</th><th>delta_distance_error</th><th>delta_pm</th><th>delta_pm_error</th><th>angsep</th></tr></thead>\n",
       "<thead><tr><th>int64</th><th>int64</th><th>float64</th><th>float64</th><th>float64</th><th>float64</th><th>float64</th><th>float64</th><th>float64</th><th>float64</th><th>float64</th><th>float64</th><th>float64</th><th>float64</th><th>float64</th><th>float64</th><th>float64</th><th>float64</th><th>float64</th><th>float64</th><th>float64</th><th>float64</th><th>float64</th><th>float64</th><th>float64</th><th>float64</th><th>float64</th><th>float64</th><th>float64</th><th>float64</th><th>float64</th></tr></thead>\n",
       "<tr><td>4415158043064282368</td><td>4415158043064282112</td><td>229.15168005113216</td><td>229.15228085069663</td><td>-1.787051543021056</td><td>-1.7874746208390146</td><td>4.703044509426726</td><td>0.04733702679101735</td><td>4.745001918118632</td><td>0.048589146666247064</td><td>-3.390456021508674</td><td>0.09085012442630039</td><td>-4.876933406375842</td><td>0.07554838360054725</td><td>-46.639819930583535</td><td>0.07849177491535411</td><td>-47.43771040728203</td><td>0.07144506983048528</td><td>11.265878677368164</td><td>11.13231372833252</td><td>10.325861930847168</td><td>10.213040351867676</td><td>10.883574485778809</td><td>10.764222145080566</td><td>4.24546993033522</td><td>4.145404106692876</td><td>1.8801529345979304</td><td>3.039325396422191</td><td>1.6870815713911673</td><td>0.11557807636983639</td><td>2.644478357166207</td></tr>\n",
       "<tr><td>3558078971047964800</td><td>3558078936688219776</td><td>168.83706942024506</td><td>168.83170187233424</td><td>-18.146900604417258</td><td>-18.147668912456858</td><td>43.58949028946906</td><td>0.04052725000971252</td><td>43.560771924948995</td><td>0.042754345821492644</td><td>143.89588156924742</td><td>0.06883824215888873</td><td>149.77230374857993</td><td>0.07130004122428538</td><td>-734.2289920759339</td><td>0.04488133194688903</td><td>-737.5854772293004</td><td>0.046327164151327496</td><td>10.192280769348145</td><td>10.27472972869873</td><td>8.488618850708008</td><td>8.546985626220703</td><td>9.353775024414062</td><td>9.419977188110352</td><td>7.550683977696423</td><td>7.615455023760376</td><td>0.015124545957132085</td><td>0.031026114509268413</td><td>6.7674463584516795</td><td>0.09181302246369616</td><td>18.569167672779713</td></tr>\n",
       "</table>"
      ],
      "text/plain": [
       "<Table length=2>\n",
       "     source_id1          source_id2     ...       angsep      \n",
       "       int64               int64        ...      float64      \n",
       "------------------- ------------------- ... ------------------\n",
       "4415158043064282368 4415158043064282112 ...  2.644478357166207\n",
       "3558078971047964800 3558078936688219776 ... 18.569167672779713"
      ]
     },
     "execution_count": 10,
     "metadata": {},
     "output_type": "execute_result"
    }
   ],
   "source": [
    "pairs"
   ]
  },
  {
   "cell_type": "code",
   "execution_count": null,
   "metadata": {},
   "outputs": [],
   "source": [
    "pairs.write('pairs.fits')"
   ]
  }
 ],
 "metadata": {
  "kernelspec": {
   "display_name": "Python 3",
   "language": "python",
   "name": "python3"
  },
  "language_info": {
   "codemirror_mode": {
    "name": "ipython",
    "version": 3
   },
   "file_extension": ".py",
   "mimetype": "text/x-python",
   "name": "python",
   "nbconvert_exporter": "python",
   "pygments_lexer": "ipython3",
   "version": "3.7.1"
  }
 },
 "nbformat": 4,
 "nbformat_minor": 2
}
